{
 "cells": [
  {
   "cell_type": "code",
   "execution_count": 2,
   "metadata": {},
   "outputs": [
    {
     "name": "stdout",
     "output_type": "stream",
     "text": [
      "Finding tests in NoName\n",
      "Trying:\n",
      "    factorial(5)\n",
      "Expecting:\n",
      "    120\n",
      "ok\n",
      "Trying:\n",
      "    factorial(3)\n",
      "Expecting:\n",
      "    6\n",
      "ok\n",
      "Trying:\n",
      "    factorial(0)\n",
      "Expecting:\n",
      "    1\n",
      "ok\n",
      "Trying:\n",
      "    factorial(7)\n",
      "Expecting:\n",
      "    5040\n",
      "ok\n"
     ]
    }
   ],
   "source": [
    "import doctest\n",
    "def factorial(n):\n",
    "    \"\"\"\n",
    "    Calculate the factorial of a positive integer.\n",
    "    \n",
    "    \n",
    "    \n",
    "    Examples:\n",
    "    >>> factorial(5)\n",
    "    120\n",
    "    >>> factorial(3)\n",
    "    6\n",
    "    >>> factorial(0)\n",
    "    1\n",
    "    >>> factorial(7)\n",
    "    5040\n",
    "    >>> factorial(2)\n",
    "    2\n",
    "    \"\"\"\n",
    "    if n == 0: \n",
    "        return 1\n",
    "    \n",
    "    result = 1\n",
    "    for i in range(1, n + 1):\n",
    "        result *= i\n",
    "    return result\n",
    "doctest.run_docstring_examples(factorial, globals(),verbose=True)\n",
    "\n",
    "\n",
    "    \n",
    "\n",
    "    \n"
   ]
  }
 ],
 "metadata": {
  "kernelspec": {
   "display_name": "Python 3",
   "language": "python",
   "name": "python3"
  },
  "language_info": {
   "codemirror_mode": {
    "name": "ipython",
    "version": 3
   },
   "file_extension": ".py",
   "mimetype": "text/x-python",
   "name": "python",
   "nbconvert_exporter": "python",
   "pygments_lexer": "ipython3",
   "version": "3.12.4"
  }
 },
 "nbformat": 4,
 "nbformat_minor": 2
}
